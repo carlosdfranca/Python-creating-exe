{
 "cells": [
  {
   "cell_type": "markdown",
   "metadata": {
    "id": "b4JhAh2zVtLX"
   },
   "source": [
    "# Python para exe com códigos simples\n",
    "\n",
    "### Códigos que não interagem com outros arquivos ou ferramentas do computador\n",
    "\n",
    "Usaremos a biblioteca pyinstaller\n",
    "\n",
    "- Passo 1 - Instalar o pyinstaller\n",
    "\n",
    "- Passo 2 - Executar o pyinstaller\n",
    "\n",
    "pyinstaller -w nome_do_programa.py"
   ]
  },
  {
   "cell_type": "code",
   "execution_count": 1,
   "metadata": {
    "id": "QyMJ1jUXVnXu"
   },
   "outputs": [
    {
     "name": "stdout",
     "output_type": "stream",
     "text": [
      "SMac72aa143f3241faaed992494b76d6e1\n"
     ]
    }
   ],
   "source": [
    "#rodar o código de um programa que fazemos durante o curso que funcione. Exemplo o do outlook de enviar email\n",
    "from twilio.rest import Client\n",
    "\n",
    "account_sid  = 'ACcc604b762274fdb8a09e5f37244ff486'\n",
    "auth_token = '9b4b224de0b21a0eecd56518a5bf931f'\n",
    "\n",
    "remetente = '+18106349491'\n",
    "destino = '+5511939344946'\n",
    "\n",
    "client = Client(account_sid, auth_token)\n",
    "\n",
    "message = client.messages.create(\n",
    "    to=destino, \n",
    "    from_=remetente,\n",
    "    body=\"Coe, é o Dudu aqui\")\n",
    "\n",
    "print(message.sid)"
   ]
  },
  {
   "cell_type": "markdown",
   "metadata": {
    "id": "37iaL3xlWjN2"
   },
   "source": [
    "### Atenção no resultado\n",
    "\n",
    "Repare que o programa final vai ficar extremamente pesado.\n",
    "\n",
    "Isso porque o pyinstaller vai incluir todas as bibliotecas que temos instaladas no programa final, para garantir que ele vai funcionar.\n",
    "\n",
    "Para evitar isso, precisaremos criar um ambiente virtual exclusivo para esse programa, vamos ver na prática como funciona na próxima aula"
   ]
  },
  {
   "cell_type": "markdown",
   "metadata": {},
   "source": [
    "### Observações Úteis\n",
    "\n",
    "- Se o nome do seu arquivo .py tiver mais de uma palavra, na hora de testar, coloque o nome dele entre aspas duplas.<br>Ex:  python \"Gabarito - SMS.py\"\n",
    "- Se o seu antivírus verificar o pyinstaller, não precisa se preocupar, é normal e tá tudo certo\n",
    "- Provavelmente a 1ª vez que você rodar o seu programa, o antivírus vai verificar ele também\n",
    "- A pasta dist é o que pode ser distribuído. Você pode compactar ela em um zip e mandar para quem você quiser"
   ]
  }
 ],
 "metadata": {
  "colab": {
   "authorship_tag": "ABX9TyMBXqtjkfYt9MRGhUP9LoJG",
   "name": "Python para exe 02.ipynb",
   "provenance": []
  },
  "kernelspec": {
   "display_name": "Python 3 (ipykernel)",
   "language": "python",
   "name": "python3"
  },
  "language_info": {
   "codemirror_mode": {
    "name": "ipython",
    "version": 3
   },
   "file_extension": ".py",
   "mimetype": "text/x-python",
   "name": "python",
   "nbconvert_exporter": "python",
   "pygments_lexer": "ipython3",
   "version": "3.9.7"
  }
 },
 "nbformat": 4,
 "nbformat_minor": 1
}
