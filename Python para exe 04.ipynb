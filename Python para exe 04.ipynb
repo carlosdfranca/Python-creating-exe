{
 "cells": [
  {
   "cell_type": "markdown",
   "metadata": {
    "id": "FsfJ3uv0bKTg"
   },
   "source": [
    "# Python para executável em programas mais complexos\n",
    "\n",
    "### Objetivo:\n",
    "\n",
    "Muitas vezes nossos códigos puxam informações de outros arquivos ou, no caso de webscraping, usam outros arquivos como o chromedriver.exe para funcionar.\n",
    "\n",
    "Nesses casos, precisamos não só tomar alguns cuidados, mas também adaptar o nosso código para funcionar.\n",
    "\n",
    "### O que usaremos:\n",
    "\n",
    "- auto-py-to-exe para transformar o arquivo python em executável\n",
    "- pathlib ou os para adaptar todos os \"caminhos dos arquivos\"\n",
    "- Alternativamente, podemos usar o tkinter para permitir a gente escolher manualmente o arquivo, independente do computador que vamos rodar o programa\n",
    "\n",
    "Vamos ver como isso funciona na prática\n",
    "\n",
    "- Referências Úteis:\n",
    "    1. https://dev.to/eshleron/how-to-convert-py-to-exe-step-by-step-guide-3cfi\n",
    "    2. https://pypi.org/project/auto-py-to-exe/"
   ]
  },
  {
   "cell_type": "markdown",
   "metadata": {
    "id": "QM9knig0b3mD"
   },
   "source": [
    "### Vamos rodar com um exemplo que temos na hashtag. Como pegar os links de vídeos do youtube\n",
    "\n"
   ]
  },
  {
   "cell_type": "markdown",
   "metadata": {
    "id": "dhwWRsVecDdr"
   },
   "source": [
    "### Importações"
   ]
  },
  {
   "cell_type": "code",
   "execution_count": 3,
   "metadata": {},
   "outputs": [],
   "source": [
    "#importar bibliotecas\n",
    "import time, urllib\n",
    "from IPython.display import display\n",
    "from selenium import webdriver \n",
    "import pandas as pd \n",
    "import numpy as np\n",
    "from selenium.webdriver.common.by import By \n",
    "from selenium.webdriver.support.ui import WebDriverWait \n",
    "from selenium.webdriver.support import expected_conditions as EC\n",
    "from selenium.webdriver.common.keys import Keys\n",
    "from selenium.common.exceptions import StaleElementReferenceException\n",
    "from tkinter import *\n",
    "import tkinter.filedialog\n",
    "from tkinter import messagebox"
   ]
  },
  {
   "cell_type": "markdown",
   "metadata": {},
   "source": [
    "### Pegando o arquivo em Excel do nosso computador "
   ]
  },
  {
   "cell_type": "code",
   "execution_count": 2,
   "metadata": {},
   "outputs": [
    {
     "ename": "NameError",
     "evalue": "name 'pd' is not defined",
     "output_type": "error",
     "traceback": [
      "\u001b[1;31m---------------------------------------------------------------------------\u001b[0m",
      "\u001b[1;31mNameError\u001b[0m                                 Traceback (most recent call last)",
      "\u001b[1;32m~\\AppData\\Local\\Temp/ipykernel_9132/2264805213.py\u001b[0m in \u001b[0;36m<module>\u001b[1;34m\u001b[0m\n\u001b[0;32m      1\u001b[0m \u001b[1;31m#ler csv\u001b[0m\u001b[1;33m\u001b[0m\u001b[1;33m\u001b[0m\u001b[0m\n\u001b[1;32m----> 2\u001b[1;33m \u001b[0mbuscas_df\u001b[0m \u001b[1;33m=\u001b[0m \u001b[0mpd\u001b[0m\u001b[1;33m.\u001b[0m\u001b[0mread_csv\u001b[0m\u001b[1;33m(\u001b[0m\u001b[1;34mr'Canais Youtube.csv'\u001b[0m\u001b[1;33m,\u001b[0m \u001b[0mencoding\u001b[0m \u001b[1;33m=\u001b[0m \u001b[1;34m'ISO-8859-1'\u001b[0m\u001b[1;33m,\u001b[0m \u001b[0msep\u001b[0m\u001b[1;33m=\u001b[0m\u001b[1;34m';'\u001b[0m\u001b[1;33m)\u001b[0m\u001b[1;33m\u001b[0m\u001b[1;33m\u001b[0m\u001b[0m\n\u001b[0m\u001b[0;32m      3\u001b[0m \u001b[0mdisplay\u001b[0m\u001b[1;33m(\u001b[0m\u001b[0mbuscas_df\u001b[0m\u001b[1;33m.\u001b[0m\u001b[0mhead\u001b[0m\u001b[1;33m(\u001b[0m\u001b[1;33m)\u001b[0m\u001b[1;33m)\u001b[0m\u001b[1;33m\u001b[0m\u001b[1;33m\u001b[0m\u001b[0m\n",
      "\u001b[1;31mNameError\u001b[0m: name 'pd' is not defined"
     ]
    }
   ],
   "source": [
    "#ler csv\n",
    "buscas_df = pd.read_csv(r'Canais Youtube.csv', encoding = 'ISO-8859-1', sep=';')\n",
    "display(buscas_df.head())"
   ]
  },
  {
   "cell_type": "markdown",
   "metadata": {},
   "source": [
    "### Pegandos os links no youtube "
   ]
  },
  {
   "cell_type": "code",
   "execution_count": 1,
   "metadata": {},
   "outputs": [
    {
     "ename": "NameError",
     "evalue": "name 'buscas_df' is not defined",
     "output_type": "error",
     "traceback": [
      "\u001b[1;31m---------------------------------------------------------------------------\u001b[0m",
      "\u001b[1;31mNameError\u001b[0m                                 Traceback (most recent call last)",
      "\u001b[1;32m~\\AppData\\Local\\Temp/ipykernel_9132/934621120.py\u001b[0m in \u001b[0;36m<module>\u001b[1;34m\u001b[0m\n\u001b[1;32m----> 1\u001b[1;33m \u001b[0mbuscas_canais\u001b[0m \u001b[1;33m=\u001b[0m \u001b[0mbuscas_df\u001b[0m\u001b[1;33m[\u001b[0m\u001b[1;34m'Canais'\u001b[0m\u001b[1;33m]\u001b[0m\u001b[1;33m.\u001b[0m\u001b[0munique\u001b[0m\u001b[1;33m(\u001b[0m\u001b[1;33m)\u001b[0m\u001b[1;33m\u001b[0m\u001b[1;33m\u001b[0m\u001b[0m\n\u001b[0m\u001b[0;32m      2\u001b[0m \u001b[1;31m# ler videos de todas as buscas\u001b[0m\u001b[1;33m\u001b[0m\u001b[1;33m\u001b[0m\u001b[0m\n\u001b[0;32m      3\u001b[0m \u001b[0mdriver\u001b[0m \u001b[1;33m=\u001b[0m \u001b[0mwebdriver\u001b[0m\u001b[1;33m.\u001b[0m\u001b[0mChrome\u001b[0m\u001b[1;33m(\u001b[0m\u001b[1;33m)\u001b[0m\u001b[1;33m\u001b[0m\u001b[1;33m\u001b[0m\u001b[0m\n\u001b[0;32m      4\u001b[0m \u001b[1;33m\u001b[0m\u001b[0m\n\u001b[0;32m      5\u001b[0m \u001b[0mhrefs\u001b[0m \u001b[1;33m=\u001b[0m \u001b[1;33m[\u001b[0m\u001b[1;33m]\u001b[0m\u001b[1;33m\u001b[0m\u001b[1;33m\u001b[0m\u001b[0m\n",
      "\u001b[1;31mNameError\u001b[0m: name 'buscas_df' is not defined"
     ]
    }
   ],
   "source": [
    "buscas_canais = buscas_df['Canais'].unique()\n",
    "# ler videos de todas as buscas\n",
    "driver = webdriver.Chrome() \n",
    "\n",
    "hrefs = []\n",
    "delay = 5\n",
    " \n",
    "# pegando os itens dos canais\n",
    "for canal in buscas_canais:\n",
    "    if canal is np.nan:\n",
    "        break\n",
    "    hrefs.append(canal)\n",
    "    driver.get(canal)\n",
    "    myElem = WebDriverWait(driver, delay).until(EC.presence_of_element_located((By.CLASS_NAME, 'paper-tab')))\n",
    "    time.sleep(2)\n",
    "    tab = driver.find_elements(By.CLASS_NAME, 'paper-tab')[1].click()\n",
    "    time.sleep(2)\n",
    "    altura = 0\n",
    "    nova_altura = 1\n",
    "    while nova_altura > altura:\n",
    "            altura = driver.execute_script(\"return document.documentElement.scrollHeight\")\n",
    "            driver.execute_script(\"window.scrollTo(0, \" + str(altura) + \");\")\n",
    "            time.sleep(3)\n",
    "            nova_altura = driver.execute_script(\"return document.documentElement.scrollHeight\")\n",
    "    videos = driver.find_elements(By.ID, 'thumbnail')\n",
    "    try:\n",
    "        for video in videos:\n",
    "            meu_link = video.get_attribute('href')\n",
    "            if meu_link:\n",
    "                if not 'googleadservices' in meu_link: \n",
    "                    hrefs.append(meu_link)\n",
    "    except StaleElementReferenceException:\n",
    "        time.sleep(2)\n",
    "        videos = driver.find_elements(By.ID, 'thumbnail')\n",
    "        for video in videos:\n",
    "            meu_link = video.get_attribute('href')\n",
    "            if meu_link:\n",
    "                if not 'googleadservices' in meu_link: \n",
    "                    hrefs.append(meu_link)\n",
    "    print('Pegamos {} vídeos do Canal {}'.format(len(videos), canal))\n",
    "\n",
    "driver.quit()"
   ]
  },
  {
   "cell_type": "markdown",
   "metadata": {},
   "source": [
    "### Gerando arquivo final "
   ]
  },
  {
   "cell_type": "code",
   "execution_count": null,
   "metadata": {},
   "outputs": [],
   "source": [
    "#salvando o resultado em um csv\n",
    "hrefs_df = pd.DataFrame(hrefs)\n",
    "hrefs_df.to_csv(r'Canais Prontos.csv', sep=',', encoding='utf-8')"
   ]
  },
  {
   "cell_type": "code",
   "execution_count": null,
   "metadata": {},
   "outputs": [],
   "source": []
  }
 ],
 "metadata": {
  "colab": {
   "authorship_tag": "ABX9TyNdHDDm3VOhRC+ZQ9GcaSka",
   "name": "Python para exe 04.ipynb",
   "provenance": []
  },
  "kernelspec": {
   "display_name": "Python 3 (ipykernel)",
   "language": "python",
   "name": "python3"
  },
  "language_info": {
   "codemirror_mode": {
    "name": "ipython",
    "version": 3
   },
   "file_extension": ".py",
   "mimetype": "text/x-python",
   "name": "python",
   "nbconvert_exporter": "python",
   "pygments_lexer": "ipython3",
   "version": "3.9.7"
  }
 },
 "nbformat": 4,
 "nbformat_minor": 1
}
